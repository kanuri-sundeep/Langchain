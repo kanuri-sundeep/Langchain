{
 "cells": [
  {
   "cell_type": "code",
   "execution_count": 13,
   "id": "d8c90ae0",
   "metadata": {},
   "outputs": [],
   "source": [
    "import os\n",
    "from dotenv import load_dotenv\n",
    "\n",
    "from langchain_core.prompts import ChatPromptTemplate\n",
    "from langchain_core.runnables import RunnablePassthrough, RunnableMap, RunnableLambda, RunnableParallel\n",
    "from langchain_anthropic import ChatAnthropic\n",
    "from langchain.memory import ConversationBufferMemory\n",
    "from langchain_core.output_parsers import StrOutputParser\n",
    "\n",
    "\n",
    "import re\n",
    "from datetime import datetime"
   ]
  },
  {
   "cell_type": "markdown",
   "id": "7052cc57",
   "metadata": {},
   "source": [
    "## Runnable Passthrough"
   ]
  },
  {
   "cell_type": "code",
   "execution_count": 15,
   "id": "3ed6e3bf",
   "metadata": {},
   "outputs": [
    {
     "name": "stdout",
     "output_type": "stream",
     "text": [
      "{'user_input': 'langchain'}\n"
     ]
    }
   ],
   "source": [
    "chain = RunnablePassthrough()  | RunnablePassthrough()\n",
    "\n",
    "x = chain.invoke({\"user_input\": \"langchain\"})\n",
    "\n",
    "print(x)    "
   ]
  },
  {
   "cell_type": "markdown",
   "id": "dc5428ed",
   "metadata": {},
   "source": [
    "### Runnable lambda"
   ]
  },
  {
   "cell_type": "code",
   "execution_count": 16,
   "id": "16b1a408",
   "metadata": {},
   "outputs": [],
   "source": [
    "def augment_query(input):\n",
    "    user_input = input[\"user_input\"]\n",
    "    user_segment = input.get(\"user_segment\", \"regular\")\n",
    "\n",
    "    current_date = datetime.today().strftime(\"%Y-%m-%d\")\n",
    "    final_prompt = f\"\"\"System Message: Today is {current_date}. The user is a {user_segment} customer.\n",
    "\n",
    "    \n",
    "    User Question: {user_input}\"\"\"\n",
    "\n",
    "    return {\"prompt\": final_prompt}"
   ]
  },
  {
   "cell_type": "code",
   "execution_count": 18,
   "id": "90b410bf",
   "metadata": {},
   "outputs": [
    {
     "name": "stdout",
     "output_type": "stream",
     "text": [
      "{'prompt': 'System Message: Today is 2025-07-12. The user is a premium customer.\\n\\n    \\n    User Question: Do you have any offers on iPhones today?'}\n"
     ]
    }
   ],
   "source": [
    "chain = RunnableLambda(augment_query)\n",
    "\n",
    "\n",
    "input_data = {\n",
    "    \"user_input\": \"Do you have any offers on iPhones today?\",\n",
    "    \"user_segment\": \"premium\"\n",
    "}\n",
    "\n",
    "# Step 4: Invoke\n",
    "augmented_prompt = chain.invoke(input_data)\n",
    "\n",
    "print(augmented_prompt)"
   ]
  },
  {
   "cell_type": "markdown",
   "id": "fb26f8ef",
   "metadata": {},
   "source": [
    "## Runnable parallel"
   ]
  },
  {
   "cell_type": "code",
   "execution_count": 5,
   "id": "097d02e6",
   "metadata": {},
   "outputs": [],
   "source": [
    "def get_browsing_history(input):\n",
    "    user_id = input.get(\"user_id\", \"\")\n",
    "    # Simulated history\n",
    "    if user_id == \"vip_001\":\n",
    "        history = [\"smartwatch\", \"fitness band\", \"apple watch series 9\"]\n",
    "    else:\n",
    "        history = [\"bluetooth speaker\", \"headphones\"]\n",
    "    return {\"recently_viewed\": history}\n",
    "\n",
    "\n",
    "# Simulated user profile fetch\n",
    "def get_user_profile(input):\n",
    "    user_id = input.get(\"user_id\", \"guest\")\n",
    "    return {\n",
    "        \"user_id\": user_id,\n",
    "        \"is_premium\": user_id.startswith(\"vip\"),\n",
    "        \"location\": \"Mumbai\"\n",
    "    }"
   ]
  },
  {
   "cell_type": "code",
   "execution_count": 12,
   "id": "1d02677c",
   "metadata": {},
   "outputs": [
    {
     "name": "stdout",
     "output_type": "stream",
     "text": [
      "{'browsing_info': {'recently_viewed': ['smartwatch', 'fitness band', 'apple watch series 9']}, 'user_info': {'user_id': 'vip_001', 'is_premium': True, 'location': 'Mumbai'}}\n"
     ]
    }
   ],
   "source": [
    "parallel_chain = RunnableParallel({\n",
    "    \"browsing_info\": RunnableLambda(get_browsing_history),\n",
    "    \"user_info\": RunnableLambda(get_user_profile)\n",
    "})\n",
    "\n",
    "# Input\n",
    "input_data = {\n",
    "    \"user_input\": \"Can you suggest something good?\",\n",
    "    \"user_id\": \"vip_001\"\n",
    "}\n",
    "\n",
    "# Run\n",
    "result = parallel_chain.invoke(input_data)\n",
    "print(result)"
   ]
  },
  {
   "cell_type": "code",
   "execution_count": null,
   "id": "9f8b1ffe",
   "metadata": {},
   "outputs": [],
   "source": []
  }
 ],
 "metadata": {
  "kernelspec": {
   "display_name": "base",
   "language": "python",
   "name": "python3"
  },
  "language_info": {
   "codemirror_mode": {
    "name": "ipython",
    "version": 3
   },
   "file_extension": ".py",
   "mimetype": "text/x-python",
   "name": "python",
   "nbconvert_exporter": "python",
   "pygments_lexer": "ipython3",
   "version": "3.12.4"
  }
 },
 "nbformat": 4,
 "nbformat_minor": 5
}
